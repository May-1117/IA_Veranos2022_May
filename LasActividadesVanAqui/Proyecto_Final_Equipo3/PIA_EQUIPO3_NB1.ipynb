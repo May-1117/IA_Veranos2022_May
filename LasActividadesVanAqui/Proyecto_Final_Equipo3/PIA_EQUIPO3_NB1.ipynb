{
  "cells": [
    {
      "cell_type": "markdown",
      "metadata": {
        "id": "0WDdjSyjcoic"
      },
      "source": [
        "# **Equipo #3:**\n",
        "\n",
        "*   Maythe Escobedo Madera                  1902026\n",
        "*   Daniela Patricia Contreras Rodríguez    1895178\n",
        "*   María Fernanda Díaz García              1799844        \n",
        "\n",
        "*Hora: N4*"
      ]
    },
    {
      "cell_type": "markdown",
      "metadata": {
        "id": "WkOR93-pc0j2"
      },
      "source": [
        "# **Producto Integrador de Aprendizaje** - *Inteligencia Artifical*\n",
        "\n",
        "**Introducción**\n",
        "\n",
        "Este proyecto consiste en el entrenamiento de dos redes neuronales convolusionales. \n",
        "\n",
        "Mediante la genereación de un conjunto de datos, se entrenó a las redes para que tuvieran la capacidad de reprocesar, normalizar y visualizar las variables en dónde los datos se encuentran almacenados.\n",
        "\n",
        "Como resultado, la primera red neuronal se probará nuetro dataset con el dataset de MNIST dentro de keras y probarlo con su dataset\n",
        "\n",
        " identificarán y mostrarán las imágenes que se les solicite con base en el entrenamiento previamente mencionado."
      ]
    },
    {
      "cell_type": "markdown",
      "metadata": {
        "id": "nPGsBmvHdGNX"
      },
      "source": [
        "**Librerías:**\n",
        "\n",
        "La primera parte consiste en importar librerías necesarias para el entrenamiento de las redes neuronales.\n"
      ]
    },
    {
      "cell_type": "code",
      "execution_count": null,
      "metadata": {
        "id": "cjyLJqygcjLR"
      },
      "outputs": [],
      "source": [
        "# Importar librerías\n",
        "import tensorflow as tf\n",
        "from tensorflow.keras import datasets, layers, models\n",
        "from tensorflow.keras.datasets import mnist\n",
        "import matplotlib.pyplot as plt\n",
        "import cv2\n",
        "import glob\n",
        "import numpy as np\n",
        "import pandas as pd\n",
        "from sklearn.model_selection import train_test_split"
      ]
    },
    {
      "cell_type": "markdown",
      "metadata": {
        "id": "HwIGHuuNdYVk"
      },
      "source": [
        "**Preprocesamiento:**\n",
        "\n",
        "En esta sección se importan las imágenes, posteriormente se reescalan y finalmente se dividen en grupo de entrenamiento y grupo de validación.\n",
        "\n",
        "A continuación se muestra la explicación de la división del conjunto de imágenes (80-20)."
      ]
    },
    {
      "cell_type": "code",
      "source": [
        "#Arrays\n",
        "array_res=[]\n",
        "array_lbs=[]"
      ],
      "metadata": {
        "id": "bupKmnbfGyen"
      },
      "execution_count": null,
      "outputs": []
    },
    {
      "cell_type": "code",
      "source": [
        "\n",
        "for images in glob.glob(\"/content/numero/0*\"):\n",
        "  test_image = cv2.imread(images, cv2.IMREAD_GRAYSCALE)\n",
        "  img_res = cv2.resize(test_image, (28,28), interpolation=cv2.INTER_LINEAR)\n",
        "  array_res.append(img_res)\n",
        "  array_lbs.append(0)\n",
        "\n",
        "for images in glob.glob(\"/content/numero/1*\"):\n",
        "  test_image = cv2.imread(images, cv2.IMREAD_GRAYSCALE)\n",
        "  img_res = cv2.resize(test_image, (28,28), interpolation=cv2.INTER_LINEAR)\n",
        "  array_res.append(img_res)\n",
        "  array_lbs.append(1)\n",
        "\n",
        "for images in glob.glob(\"/content/numero/2*\"):\n",
        "  test_image = cv2.imread(images, cv2.IMREAD_GRAYSCALE)\n",
        "  img_res = cv2.resize(test_image, (28,28), interpolation=cv2.INTER_LINEAR)\n",
        "  array_res.append(img_res)\n",
        "  array_lbs.append(2)\n",
        "\n",
        "for images in glob.glob(\"/content/numero/3*\"):\n",
        "  test_image = cv2.imread(images, cv2.IMREAD_GRAYSCALE)\n",
        "  img_res = cv2.resize(test_image, (28,28), interpolation=cv2.INTER_LINEAR)\n",
        "  array_res.append(img_res)\n",
        "  array_lbs.append(3)\n",
        "\n",
        "for images in glob.glob(\"/content/numero/4*\"):\n",
        "  test_image = cv2.imread(images, cv2.IMREAD_GRAYSCALE)\n",
        "  img_res = cv2.resize(test_image, (28,28), interpolation=cv2.INTER_LINEAR)\n",
        "  array_res.append(img_res)\n",
        "  array_lbs.append(4)\n",
        "\n",
        "for images in glob.glob(\"/content/numero/5*\"):\n",
        "  test_image = cv2.imread(images, cv2.IMREAD_GRAYSCALE)\n",
        "  img_res = cv2.resize(test_image, (28,28), interpolation=cv2.INTER_LINEAR)\n",
        "  array_res.append(img_res)\n",
        "  array_lbs.append(5)\n",
        "\n",
        "for images in glob.glob(\"/content/numero/6*\"):\n",
        "  test_image = cv2.imread(images, cv2.IMREAD_GRAYSCALE)\n",
        "  img_res = cv2.resize(test_image, (28,28), interpolation=cv2.INTER_LINEAR)\n",
        "  array_res.append(img_res)\n",
        "  array_lbs.append(6)\n",
        "\n",
        "for images in glob.glob(\"/content/numero/7*\"):\n",
        "  test_image = cv2.imread(images, cv2.IMREAD_GRAYSCALE)\n",
        "  img_res = cv2.resize(test_image, (28,28), interpolation=cv2.INTER_LINEAR)\n",
        "  array_res.append(img_res)\n",
        "  array_lbs.append(7)\n",
        "\n",
        "for images in glob.glob(\"/content/numero/8*\"):\n",
        "  test_image = cv2.imread(images, cv2.IMREAD_GRAYSCALE)\n",
        "  img_res = cv2.resize(test_image, (28,28), interpolation=cv2.INTER_LINEAR)\n",
        "  array_res.append(img_res)\n",
        "  array_lbs.append(8)\n",
        "\n",
        "for images in glob.glob(\"/content/numero/9*\"):\n",
        "  test_image = cv2.imread(images, cv2.IMREAD_GRAYSCALE)\n",
        "  img_res = cv2.resize(test_image, (28,28), interpolation=cv2.INTER_LINEAR)\n",
        "  array_res.append(img_res)\n",
        "  array_lbs.append(9)"
      ],
      "metadata": {
        "id": "Qv5o7J44GQiB"
      },
      "execution_count": null,
      "outputs": []
    },
    {
      "cell_type": "code",
      "source": [
        "# Total de imágenes almacenadas\n",
        "len(array_res)"
      ],
      "metadata": {
        "colab": {
          "base_uri": "https://localhost:8080/"
        },
        "id": "Jr9-jwkWHEgK",
        "outputId": "1d9a2e2c-b482-49b9-f9c7-93a00257008c"
      },
      "execution_count": null,
      "outputs": [
        {
          "output_type": "execute_result",
          "data": {
            "text/plain": [
              "300"
            ]
          },
          "metadata": {},
          "execution_count": 132
        }
      ]
    },
    {
      "cell_type": "code",
      "source": [
        "plt.imshow(array_res[270], cmap='gray')"
      ],
      "metadata": {
        "colab": {
          "base_uri": "https://localhost:8080/",
          "height": 282
        },
        "id": "tCPxhEf0HQaA",
        "outputId": "2a06d9df-4a45-4e5e-b9ed-8dc648c01391"
      },
      "execution_count": null,
      "outputs": [
        {
          "output_type": "execute_result",
          "data": {
            "text/plain": [
              "<matplotlib.image.AxesImage at 0x7f4a44cb6c90>"
            ]
          },
          "metadata": {},
          "execution_count": 133
        },
        {
          "output_type": "display_data",
          "data": {
            "text/plain": [
              "<Figure size 432x288 with 1 Axes>"
            ],
            "image/png": "[encoded data removed]"
          },
          "metadata": {
            "needs_background": "light"
          }
        }
      ]
    },
    {
      "cell_type": "code",
      "execution_count": null,
      "metadata": {
        "id": "1220Iy4bqprf",
        "colab": {
          "base_uri": "https://localhost:8080/",
          "height": 886
        },
        "outputId": "b1b097b4-ed36-4c4b-c81c-f23532dfa9f4"
      },
      "outputs": [
        {
          "output_type": "display_data",
          "data": {
            "text/plain": [
              "<Figure size 720x720 with 9 Axes>"
            ],
            "image/png": "[encoded data removed]"
          },
          "metadata": {}
        },
        {
          "output_type": "stream",
          "name": "stdout",
          "text": [
            "300\n"
          ]
        },
        {
          "output_type": "execute_result",
          "data": {
            "text/plain": [
              "Text(0.5, 0, '0')"
            ]
          },
          "metadata": {},
          "execution_count": 134
        },
        {
          "output_type": "display_data",
          "data": {
            "text/plain": [
              "<Figure size 432x288 with 1 Axes>"
            ],
            "image/png": "[encoded data removed]"
          },
          "metadata": {
            "needs_background": "light"
          }
        }
      ],
      "source": [
        "# Después resize\n",
        "plt.figure(figsize=(10,10))\n",
        "for i in range (9):\n",
        "   plt.subplot(330 + 1 + i)\n",
        "   plt.xticks([])\n",
        "   plt.yticks([])\n",
        "   plt.grid(False)\n",
        "   plt.imshow(array_res[i], cmap=plt.get_cmap('gray'))\n",
        "   plt.xlabel(array_lbs[i])\n",
        "plt.show()\n",
        "\n",
        "# Despues resize verificación ind\n",
        "print(len(array_res))\n",
        "plt.imshow(array_res[0], cmap='gray')\n",
        "plt.xlabel(array_lbs[0])"
      ]
    },
    {
      "cell_type": "code",
      "source": [
        "\n",
        "train_images=[]\n",
        "train_labels=[]\n",
        "test_images=[]\n",
        "test_labels=[]\n",
        "i=0\n",
        "j=0\n",
        "for i in range(0, len(array_res), 30):\n",
        "  for j in range(24):\n",
        "    train_images.append(array_res[i+j])\n",
        "    train_labels.append(array_lbs[i+j])\n",
        "  for j in range(6):\n",
        "    test_images.append(array_res[i+24+j])\n",
        "    test_labels.append(array_lbs[i+24+j])"
      ],
      "metadata": {
        "id": "PeF-Ks1lgG7G"
      },
      "execution_count": null,
      "outputs": []
    },
    {
      "cell_type": "code",
      "source": [
        "# Normalización\n",
        "test_images=np.array(test_images)\n",
        "test_labels=np.array(test_labels)\n",
        "train_images=np.array(train_images)\n",
        "train_labels=np.array(train_labels)\n",
        "\n",
        "test_images=test_images/255.0\n",
        "train_images=train_images/255.0"
      ],
      "metadata": {
        "id": "ok8AK8bUNy1S"
      },
      "execution_count": null,
      "outputs": []
    },
    {
      "cell_type": "code",
      "source": [
        "# Visualización\n",
        "print(type(train_images))\n",
        "train_images.shape"
      ],
      "metadata": {
        "colab": {
          "base_uri": "https://localhost:8080/"
        },
        "id": "DcK8YzK_PJa2",
        "outputId": "2126780b-dd9a-4a10-fc55-1b4415f10972"
      },
      "execution_count": null,
      "outputs": [
        {
          "output_type": "stream",
          "name": "stdout",
          "text": [
            "<class 'numpy.ndarray'>\n"
          ]
        },
        {
          "output_type": "execute_result",
          "data": {
            "text/plain": [
              "(240, 28, 28)"
            ]
          },
          "metadata": {},
          "execution_count": 137
        }
      ]
    },
    {
      "cell_type": "code",
      "source": [
        "print(type(train_labels))\n",
        "train_labels.shape"
      ],
      "metadata": {
        "id": "LwEpkgjnPPzt",
        "outputId": "429c3517-0746-4d72-c09a-395bb7c70e71",
        "colab": {
          "base_uri": "https://localhost:8080/"
        }
      },
      "execution_count": null,
      "outputs": [
        {
          "output_type": "stream",
          "name": "stdout",
          "text": [
            "<class 'numpy.ndarray'>\n"
          ]
        },
        {
          "output_type": "execute_result",
          "data": {
            "text/plain": [
              "(240,)"
            ]
          },
          "metadata": {},
          "execution_count": 138
        }
      ]
    },
    {
      "cell_type": "code",
      "source": [
        "print(type(test_images))\n",
        "test_images.shape"
      ],
      "metadata": {
        "id": "KrTh7dCUPRI1",
        "outputId": "a6da1a6b-7b08-48b1-f97b-4de8a4e72920",
        "colab": {
          "base_uri": "https://localhost:8080/"
        }
      },
      "execution_count": null,
      "outputs": [
        {
          "output_type": "stream",
          "name": "stdout",
          "text": [
            "<class 'numpy.ndarray'>\n"
          ]
        },
        {
          "output_type": "execute_result",
          "data": {
            "text/plain": [
              "(60, 28, 28)"
            ]
          },
          "metadata": {},
          "execution_count": 139
        }
      ]
    },
    {
      "cell_type": "code",
      "execution_count": null,
      "metadata": {
        "colab": {
          "base_uri": "https://localhost:8080/"
        },
        "id": "_REEdTiU_6ZZ",
        "outputId": "6d0f258a-363d-43db-84ef-bd9f3b9ff021"
      },
      "outputs": [
        {
          "output_type": "stream",
          "name": "stdout",
          "text": [
            "<class 'numpy.ndarray'>\n"
          ]
        },
        {
          "output_type": "execute_result",
          "data": {
            "text/plain": [
              "(60,)"
            ]
          },
          "metadata": {},
          "execution_count": 140
        }
      ],
      "source": [
        "print(type(test_labels))\n",
        "test_labels.shape"
      ]
    },
    {
      "cell_type": "code",
      "execution_count": null,
      "metadata": {
        "colab": {
          "base_uri": "https://localhost:8080/"
        },
        "id": "z6h94eQXfiOe",
        "outputId": "d0140b83-fbed-4dce-9dca-416da211bf70"
      },
      "outputs": [
        {
          "output_type": "execute_result",
          "data": {
            "text/plain": [
              "240"
            ]
          },
          "metadata": {},
          "execution_count": 141
        }
      ],
      "source": [
        "len(train_labels)"
      ]
    },
    {
      "cell_type": "code",
      "execution_count": null,
      "metadata": {
        "colab": {
          "base_uri": "https://localhost:8080/"
        },
        "id": "AlE2jF6Jfs4a",
        "outputId": "43351857-69b4-4932-f2c0-bb56d4e0ee15"
      },
      "outputs": [
        {
          "output_type": "execute_result",
          "data": {
            "text/plain": [
              "60"
            ]
          },
          "metadata": {},
          "execution_count": 142
        }
      ],
      "source": [
        "len(test_labels)"
      ]
    },
    {
      "cell_type": "markdown",
      "metadata": {
        "id": "UhCxGdNEleGo"
      },
      "source": [
        "**Entrenamiento y estructura de una Red Neuronal Artificial Convolusional (RNAC)**\n",
        "\n",
        "En esta sección se establece la cantidad de capas de convolusión y capas de aprendizaje para la red neuronal artificial cpnvolusional."
      ]
    },
    {
      "cell_type": "code",
      "execution_count": 121,
      "metadata": {
        "id": "SIZ-MJyzlvcX"
      },
      "outputs": [],
      "source": [
        "# Parte convolusional de la RNAC\n",
        "model = models.Sequential()\n",
        "model.add(layers.Conv2D(32, (3, 3), activation='relu', input_shape=(28, 28,1)))\n",
        "model.add(layers.MaxPooling2D((2, 2)))\n",
        "model.add(layers.Conv2D(64, (3, 3), activation='relu'))\n",
        "model.add(layers.MaxPooling2D((2, 2)))\n",
        "model.add(layers.Conv2D(64, (3, 3), activation='relu'))"
      ]
    },
    {
      "cell_type": "code",
      "execution_count": 122,
      "metadata": {
        "id": "64tUaCZjl1sg"
      },
      "outputs": [],
      "source": [
        "# Parte de clasificación\n",
        "model.add(layers.Flatten())\n",
        "model.add(layers.Dense(64, activation='relu'))\n",
        "model.add(layers.Dense(10, activation = 'softmax'))"
      ]
    },
    {
      "cell_type": "code",
      "execution_count": 123,
      "metadata": {
        "id": "6RIQz32vkGMU",
        "colab": {
          "base_uri": "https://localhost:8080/"
        },
        "outputId": "5ed5b051-29a6-4e22-ee24-0cbd85a6af13"
      },
      "outputs": [
        {
          "output_type": "stream",
          "name": "stdout",
          "text": [
            "Model: \"sequential_14\"\n",
            "_________________________________________________________________\n",
            " Layer (type)                Output Shape              Param #   \n",
            "=================================================================\n",
            " conv2d_38 (Conv2D)          (None, 26, 26, 32)        320       \n",
            "                                                                 \n",
            " max_pooling2d_25 (MaxPoolin  (None, 13, 13, 32)       0         \n",
            " g2D)                                                            \n",
            "                                                                 \n",
            " conv2d_39 (Conv2D)          (None, 11, 11, 64)        18496     \n",
            "                                                                 \n",
            " max_pooling2d_26 (MaxPoolin  (None, 5, 5, 64)         0         \n",
            " g2D)                                                            \n",
            "                                                                 \n",
            " conv2d_40 (Conv2D)          (None, 3, 3, 64)          36928     \n",
            "                                                                 \n",
            " flatten_13 (Flatten)        (None, 576)               0         \n",
            "                                                                 \n",
            " dense_26 (Dense)            (None, 64)                36928     \n",
            "                                                                 \n",
            " dense_27 (Dense)            (None, 10)                650       \n",
            "                                                                 \n",
            "=================================================================\n",
            "Total params: 93,322\n",
            "Trainable params: 93,322\n",
            "Non-trainable params: 0\n",
            "_________________________________________________________________\n"
          ]
        }
      ],
      "source": [
        "model.summary()"
      ]
    },
    {
      "cell_type": "code",
      "execution_count": 124,
      "metadata": {
        "id": "0t4OcLkUl3P3"
      },
      "outputs": [],
      "source": [
        "# CompiLación del modelo: características\n",
        "model.compile(optimizer='adam',\n",
        "              loss=tf.keras.losses.SparseCategoricalCrossentropy(from_logits=True),\n",
        "              metrics=['accuracy'])"
      ]
    },
    {
      "cell_type": "code",
      "execution_count": 134,
      "metadata": {
        "colab": {
          "base_uri": "https://localhost:8080/"
        },
        "id": "Cw4OlThJl4mo",
        "outputId": "75328813-f3b3-4f2c-d6b5-d78522504c0d"
      },
      "outputs": [
        {
          "output_type": "stream",
          "name": "stdout",
          "text": [
            "Epoch 1/10\n",
            "8/8 [==============================] - 0s 37ms/step - loss: 0.0017 - accuracy: 1.0000 - val_loss: 2.3002 - val_accuracy: 0.1000\n",
            "Epoch 2/10\n",
            "8/8 [==============================] - 0s 34ms/step - loss: 0.0016 - accuracy: 1.0000 - val_loss: 2.3003 - val_accuracy: 0.1000\n",
            "Epoch 3/10\n",
            "8/8 [==============================] - 0s 32ms/step - loss: 0.0015 - accuracy: 1.0000 - val_loss: 2.3003 - val_accuracy: 0.1000\n",
            "Epoch 4/10\n",
            "8/8 [==============================] - 0s 33ms/step - loss: 0.0014 - accuracy: 1.0000 - val_loss: 2.3000 - val_accuracy: 0.1000\n",
            "Epoch 5/10\n",
            "8/8 [==============================] - 0s 33ms/step - loss: 0.0013 - accuracy: 1.0000 - val_loss: 2.3000 - val_accuracy: 0.1000\n",
            "Epoch 6/10\n",
            "8/8 [==============================] - 0s 32ms/step - loss: 0.0012 - accuracy: 1.0000 - val_loss: 2.3000 - val_accuracy: 0.1000\n",
            "Epoch 7/10\n",
            "8/8 [==============================] - 0s 32ms/step - loss: 0.0012 - accuracy: 1.0000 - val_loss: 2.3000 - val_accuracy: 0.1000\n",
            "Epoch 8/10\n",
            "8/8 [==============================] - 0s 32ms/step - loss: 0.0011 - accuracy: 1.0000 - val_loss: 2.2999 - val_accuracy: 0.1000\n",
            "Epoch 9/10\n",
            "8/8 [==============================] - 0s 34ms/step - loss: 0.0010 - accuracy: 1.0000 - val_loss: 2.2999 - val_accuracy: 0.1000\n",
            "Epoch 10/10\n",
            "8/8 [==============================] - 0s 32ms/step - loss: 9.9283e-04 - accuracy: 1.0000 - val_loss: 2.2998 - val_accuracy: 0.1000\n"
          ]
        }
      ],
      "source": [
        "# Entrenamiento de la RNAC\n",
        "history = model.fit(train_images, train_labels, epochs=10, \n",
        "                    validation_data=(test_images, test_labels))"
      ]
    },
    {
      "cell_type": "markdown",
      "metadata": {
        "id": "QyWjOQnHl7nN"
      },
      "source": [
        "**Resultados de exactitud de la RNAC**\n",
        "\n",
        "A continuación se muestra la comparación entre la exactitud de entrenamiento y validación."
      ]
    },
    {
      "cell_type": "code",
      "execution_count": 129,
      "metadata": {
        "id": "nqWRNxm7l_HP",
        "colab": {
          "base_uri": "https://localhost:8080/",
          "height": 300
        },
        "outputId": "90a8f270-1506-4fcd-abf4-562ff30ef9a9"
      },
      "outputs": [
        {
          "output_type": "stream",
          "name": "stdout",
          "text": [
            "8/8 - 0s - loss: 2.3026 - accuracy: 0.1000 - 74ms/epoch - 9ms/step\n"
          ]
        },
        {
          "output_type": "display_data",
          "data": {
            "text/plain": [
              "<Figure size 432x288 with 1 Axes>"
            ],
            "image/png": "[encoded data removed]"
          },
          "metadata": {
            "needs_background": "light"
          }
        }
      ],
      "source": [
        "# Gráfica con la diferencia de valores de exactitud del entrenamiento y la validación. \n",
        "\n",
        "plt.plot(history.history['accuracy'], label='accuracy')\n",
        "plt.plot(history.history['val_accuracy'], label = 'val_accuracy')\n",
        "plt.xlabel('Epoch')\n",
        "plt.ylabel('Accuracy')\n",
        "plt.ylim([0, 1])\n",
        "plt.xlim([-1, 11])\n",
        "plt.legend(loc='lower right')\n",
        "\n",
        "test_loss, test_acc = model.evaluate(test_images,  test_labels, verbose=2)"
      ]
    },
    {
      "cell_type": "code",
      "execution_count": 127,
      "metadata": {
        "id": "dzuEwt8cpVUj",
        "colab": {
          "base_uri": "https://localhost:8080/"
        },
        "outputId": "4608087f-50fb-4edf-d9f0-137890960423"
      },
      "outputs": [
        {
          "output_type": "stream",
          "name": "stdout",
          "text": [
            "0.10000000149011612\n"
          ]
        }
      ],
      "source": [
        "print(test_acc)"
      ]
    },
    {
      "cell_type": "markdown",
      "metadata": {
        "id": "ybUgkFiJmB4x"
      },
      "source": [
        "**Predicciones con la RNAC entrenada:**\n",
        "\n",
        "Se muestran al menos tres predicciones de dígitos del 0 al 9. "
      ]
    },
    {
      "cell_type": "code",
      "execution_count": 128,
      "metadata": {
        "id": "yXDL7OdomGRs",
        "colab": {
          "base_uri": "https://localhost:8080/"
        },
        "outputId": "0ff6dd50-2c6d-40de-8f58-8f4719e3e311"
      },
      "outputs": [
        {
          "output_type": "stream",
          "name": "stdout",
          "text": [
            "La red dice que la imagen es clase: 0 y la clase verdadera es: 0.0\n"
          ]
        }
      ],
      "source": [
        "predictions = model.predict(test_images)\n",
        "x = np.argmax(predictions[1])\n",
        "y = test_labels[1]\n",
        "print(\"La red dice que la imagen es clase: \" + str(x) + \" y la clase verdadera es: \" + str(y))"
      ]
    },
    {
      "cell_type": "code",
      "source": [
        "predictions = model.predict(test_images)\n",
        "x = np.argmax(predictions[24])\n",
        "y = test_labels[24]\n",
        "print(\"La red dice que la imagen es clase: \" + str(x) + \" y la clase verdadera es: \" + str(y))"
      ],
      "metadata": {
        "colab": {
          "base_uri": "https://localhost:8080/"
        },
        "id": "IqF03hfwhOQR",
        "outputId": "574aa260-dbf8-420e-f380-602fa9875463"
      },
      "execution_count": null,
      "outputs": [
        {
          "output_type": "stream",
          "name": "stdout",
          "text": [
            "La red dice que la imagen es clase: 1 y la clase verdadera es: 0.00392156862745098\n"
          ]
        }
      ]
    },
    {
      "cell_type": "code",
      "source": [
        "predictions = model.predict(test_images)\n",
        "x = np.argmax(predictions[50])\n",
        "y = test_labels[50]\n",
        "print(\"La red dice que la imagen es clase: \" + str(x) + \" y la clase verdadera es: \" + str(y))"
      ],
      "metadata": {
        "id": "hf_b09BlyEEg",
        "outputId": "7e059f8a-3555-45d3-9504-67352b90b69a",
        "colab": {
          "base_uri": "https://localhost:8080/"
        }
      },
      "execution_count": 136,
      "outputs": [
        {
          "output_type": "stream",
          "name": "stdout",
          "text": [
            "La red dice que la imagen es clase: 2 y la clase verdadera es: 0.00784313725490196\n"
          ]
        }
      ]
    },
    {
      "cell_type": "markdown",
      "source": [
        "**Referencias**\n",
        "1.   https://www.tensorflow.org/tutorials/images/cnn?hl=es-419\n",
        "2.   https://www.tensorflow.org/tutorials/keras/classification?hl=es-419\n",
        "3.   https://keras.io/api/datasets/mnist/ "
      ],
      "metadata": {
        "id": "mwvF-1ki6E3H"
      }
    }
  ],
  "metadata": {
    "colab": {
      "collapsed_sections": [],
      "name": "PIA_EQUIPO3_NB1",
      "provenance": []
    },
    "kernelspec": {
      "display_name": "Python 3",
      "name": "python3"
    },
    "language_info": {
      "name": "python"
    }
  },
  "nbformat": 4,
  "nbformat_minor": 0
}