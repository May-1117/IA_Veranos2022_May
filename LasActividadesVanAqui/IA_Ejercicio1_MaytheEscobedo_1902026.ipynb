{
  "nbformat": 4,
  "nbformat_minor": 0,
  "metadata": {
    "colab": {
      "name": "IA_Ejercicio1_MaytheEscobedo_1902026",
      "provenance": []
    },
    "kernelspec": {
      "name": "python3",
      "display_name": "Python 3"
    },
    "language_info": {
      "name": "python"
    }
  },
  "cells": [
    {
      "cell_type": "markdown",
      "source": [
        "**Actividad 2: Ejercicios en Python** || \n",
        "Maythe Escobedo Madera - 1902026 - N4 a N5"
      ],
      "metadata": {
        "id": "kscmm5teI5Wn"
      }
    },
    {
      "cell_type": "markdown",
      "source": [
        "1-Programa donde se le pida al usuario por su nombre y que lo salude por su nombre, excepto si se llama: ana, juan y pedro"
      ],
      "metadata": {
        "id": "fXsAZEhnJL4m"
      }
    },
    {
      "cell_type": "code",
      "source": [
        "#Para pedir el nombre del usuario\n",
        "cake=input(\"Por favor, introduce tu nombre :) :\")\n",
        "#inputs\n",
        "a=\"Ana\"\n",
        "b=\"Juan\"\n",
        "c=\"Pedro\"\n",
        "#Ahora el condicional por si el nombre llega a ser de la lista:\n",
        "if cake==a or cake==b or cake==c:\n",
        "    print(\"Hola desconocido, usted me cae mal :c \")\n",
        "else:\n",
        "      print(\"Hola estudiante:  \")\n",
        "      print(cake)"
      ],
      "metadata": {
        "colab": {
          "base_uri": "https://localhost:8080/"
        },
        "id": "VW0F31ZhJvy_",
        "outputId": "5dfa439d-32fd-4308-e3bc-24bfec7acd3f"
      },
      "execution_count": null,
      "outputs": [
        {
          "output_type": "stream",
          "name": "stdout",
          "text": [
            "Por favor, introduce tu nombre :) :May\n",
            "Hola estudiante:  \n",
            "May\n"
          ]
        }
      ]
    },
    {
      "cell_type": "markdown",
      "source": [
        "2-Función que regrese al último elemento de una lista y que revierta el orden de la lista e imprima la lista revertida"
      ],
      "metadata": {
        "id": "jyCapjnSZoZs"
      }
    },
    {
      "cell_type": "code",
      "source": [
        "#La lista en cuestión\n",
        "song=[\"Fairy of Shampoo\", \"Turbulence\", \"Starlight\", \"Luna\"]\n",
        "#Ahora para imprimir y revertir la lista\n",
        "print(\"La lista sin revertir es:\") \n",
        "print(song)\n",
        "print(\"El último elemento es: \" + song[-1])\n",
        "print(\"La lista revertida es:\") \n",
        "mingi=list(reversed(song))\n",
        "print(mingi)\n",
        "\n"
      ],
      "metadata": {
        "colab": {
          "base_uri": "https://localhost:8080/"
        },
        "id": "1DrzLJ9eZ7sY",
        "outputId": "d7b719d9-6eed-4d2e-8595-dc0ff5039ab9"
      },
      "execution_count": 6,
      "outputs": [
        {
          "output_type": "stream",
          "name": "stdout",
          "text": [
            "La lista sin revertir es:\n",
            "['Fairy of Shampoo', 'Turbulence', 'Starlight', 'Luna']\n",
            "El último elemento es: Luna\n",
            "La lista revertida es:\n",
            "['Luna', 'Starlight', 'Turbulence', 'Fairy of Shampoo']\n"
          ]
        }
      ]
    },
    {
      "cell_type": "markdown",
      "source": [
        "3-Función que toma una lista de strings y los imprime línea por línea en un marco rectangular"
      ],
      "metadata": {
        "id": "bFoFS6L4iUPs"
      }
    },
    {
      "cell_type": "code",
      "source": [
        "#Definición elementos string\n",
        "wv=[\"**************\",\"I am          \",\"Hannah Montana\", \"And you are   \", \"Watching      \", \"Disney Channel\",\"**************\"]\n",
        "#Ahora el marco\n",
        "mard=[\"*\"]\n",
        "der=[\"*\"]\n",
        "for x in mard:\n",
        "  for y in wv:\n",
        "    for z in der:\n",
        "      print(x,y,z)\n",
        "      "
      ],
      "metadata": {
        "colab": {
          "base_uri": "https://localhost:8080/"
        },
        "id": "D2qFjyDair7H",
        "outputId": "3e4977db-f3fd-4d48-d014-c9a7c1b10bd4"
      },
      "execution_count": null,
      "outputs": [
        {
          "output_type": "stream",
          "name": "stdout",
          "text": [
            "* ************** *\n",
            "* I am           *\n",
            "* Hannah Montana *\n",
            "* And you are    *\n",
            "* Watching       *\n",
            "* Disney Channel *\n",
            "* ************** *\n"
          ]
        }
      ]
    }
  ]
}