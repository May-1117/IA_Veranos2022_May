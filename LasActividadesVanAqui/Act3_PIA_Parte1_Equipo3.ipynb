{
  "nbformat": 4,
  "nbformat_minor": 0,
  "metadata": {
    "colab": {
      "name": "Act3_PIA_Parte1_Equipo3",
      "provenance": [],
      "collapsed_sections": []
    },
    "kernelspec": {
      "name": "python3",
      "display_name": "Python 3"
    },
    "language_info": {
      "name": "python"
    }
  },
  "cells": [
    {
      "cell_type": "markdown",
      "source": [
        "**Integrantes equipo #3 :**\n",
        "\n",
        "*   Maythe Escobedo Madera\n",
        "*   Daniela Patricia Contreras Rodriguez\n",
        "*   María Fernanda Díaz García\n",
        "\n",
        "\n",
        "\n",
        "\n"
      ],
      "metadata": {
        "id": "2W81c8eAUMub"
      }
    },
    {
      "cell_type": "code",
      "execution_count": 23,
      "metadata": {
        "id": "-TecJnEE-Bdj"
      },
      "outputs": [],
      "source": [
        "import cv2\n",
        "import matplotlib.pyplot as plt\n",
        "import glob\n",
        "import numpy as np"
      ]
    },
    {
      "cell_type": "code",
      "source": [
        "#Proceso de guardado de imágenes re-escaladas\n",
        "img_array=[]"
      ],
      "metadata": {
        "id": "MNWgIm52PDv1"
      },
      "execution_count": 24,
      "outputs": []
    },
    {
      "cell_type": "code",
      "source": [
        "#Obtener el directorio\n",
        "folder_dir = '/content/numero'\n",
        "\n",
        "#Buscar entre las files del directorio seleccionado\n",
        "for images in glob.iglob(f'{folder_dir}/*.png'):\n",
        "  test_image = cv2.imread(images, cv2.IMREAD_GRAYSCALE)\n",
        "  img_resized = cv2.resize(test_image, (28,28), interpolation=cv2.INTER_LINEAR)\n",
        "  plt.imshow(img_resized, cmap='gray')\n",
        "  img_array.append(img_resized)"
      ],
      "metadata": {
        "colab": {
          "base_uri": "https://localhost:8080/",
          "height": 265
        },
        "id": "mqeJdlQ_-PZF",
        "outputId": "86c0e98c-c3bc-427c-d442-b7f194fac753"
      },
      "execution_count": 25,
      "outputs": [
        {
          "output_type": "display_data",
          "data": {
            "text/plain": [
              "<Figure size 432x288 with 1 Axes>"
            ],
            "image/png": "[encoded data removed]"
          },
          "metadata": {
            "needs_background": "light"
          }
        }
      ]
    },
    {
      "cell_type": "code",
      "source": [
        "#Ejemplo imagen re-escalada\n",
        "plt.imshow(img_array[0], cmap='gray')"
      ],
      "metadata": {
        "colab": {
          "base_uri": "https://localhost:8080/",
          "height": 282
        },
        "id": "lNdysTAFXmtM",
        "outputId": "b0273251-0350-4cba-ac74-113c97dd70a4"
      },
      "execution_count": 26,
      "outputs": [
        {
          "output_type": "execute_result",
          "data": {
            "text/plain": [
              "<matplotlib.image.AxesImage at 0x7f9758d896d0>"
            ]
          },
          "metadata": {},
          "execution_count": 26
        },
        {
          "output_type": "display_data",
          "data": {
            "text/plain": [
              "<Figure size 432x288 with 1 Axes>"
            ],
            "image/png": "[encoded data removed]"
          },
          "metadata": {
            "needs_background": "light"
          }
        }
      ]
    },
    {
      "cell_type": "code",
      "source": [
        "#Total imágenes almacenadas\n",
        "len(img_array)"
      ],
      "metadata": {
        "colab": {
          "base_uri": "https://localhost:8080/"
        },
        "id": "evYgeZaHRids",
        "outputId": "1196924f-788a-4772-c708-39014f327e90"
      },
      "execution_count": 27,
      "outputs": [
        {
          "output_type": "execute_result",
          "data": {
            "text/plain": [
              "300"
            ]
          },
          "metadata": {},
          "execution_count": 27
        }
      ]
    },
    {
      "cell_type": "code",
      "source": [
        "# 3 ejemplos de imágenes almacenadas\n",
        "plt.figure(figsize=(10,10))\n",
        "for i in range (3):\n",
        "   plt.subplot(4,5,i+1)\n",
        "   plt.xticks([])\n",
        "   plt.yticks([])\n",
        "   plt.grid(False)\n",
        "   plt.imshow(img_array[i], cmap='gray')\n",
        "plt.show()"
      ],
      "metadata": {
        "colab": {
          "base_uri": "https://localhost:8080/",
          "height": 131
        },
        "id": "5e_a_T8tWYWj",
        "outputId": "8753eda6-6cd2-4ca8-e460-24d9955ed302"
      },
      "execution_count": 28,
      "outputs": [
        {
          "output_type": "display_data",
          "data": {
            "text/plain": [
              "<Figure size 720x720 with 3 Axes>"
            ],
            "image/png": "[encoded data removed]"
          },
          "metadata": {}
        }
      ]
    }
  ]
}